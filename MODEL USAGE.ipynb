{
 "cells": [
  {
   "cell_type": "code",
   "execution_count": 1,
   "id": "9dabd3a3",
   "metadata": {},
   "outputs": [],
   "source": [
    "from joblib import dump, load\n",
    "import numpy as np\n",
    "model = load( \"House_Prediction_Joplib\")"
   ]
  },
  {
   "cell_type": "code",
   "execution_count": 6,
   "id": "1252cfbe",
   "metadata": {},
   "outputs": [],
   "source": [
    "input = np.array([[-0.35082247, -0.77148409, -1.25183452, -0.27144836, -0.21067276,\n",
    "        0.555869844, -2.25450164,  1.07434355, -0.91150503,  0.17974455,\n",
    "       -1.08091535,  0.3995192 , -0.51357301]])"
   ]
  },
  {
   "cell_type": "code",
   "execution_count": 7,
   "id": "8c5a25ed",
   "metadata": {},
   "outputs": [
    {
     "data": {
      "text/plain": [
       "array([26.956])"
      ]
     },
     "execution_count": 7,
     "metadata": {},
     "output_type": "execute_result"
    }
   ],
   "source": [
    "model.predict(input)"
   ]
  },
  {
   "cell_type": "code",
   "execution_count": null,
   "id": "de2fb23e",
   "metadata": {},
   "outputs": [],
   "source": []
  }
 ],
 "metadata": {
  "kernelspec": {
   "display_name": "Python 3 (ipykernel)",
   "language": "python",
   "name": "python3"
  },
  "language_info": {
   "codemirror_mode": {
    "name": "ipython",
    "version": 3
   },
   "file_extension": ".py",
   "mimetype": "text/x-python",
   "name": "python",
   "nbconvert_exporter": "python",
   "pygments_lexer": "ipython3",
   "version": "3.9.0"
  }
 },
 "nbformat": 4,
 "nbformat_minor": 5
}
